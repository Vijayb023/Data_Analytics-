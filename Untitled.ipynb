{
 "cells": [
  {
   "cell_type": "code",
   "execution_count": 1,
   "metadata": {},
   "outputs": [],
   "source": [
    "import datetime as dt\n",
    "import matplotlib.pyplot as plt \n",
    "from matplotlib import style \n",
    "import pandas as pd \n",
    "import pandas_datareader.data as web \n",
    "import seaborn as sns\n"
   ]
  },
  {
   "cell_type": "code",
   "execution_count": 2,
   "metadata": {},
   "outputs": [],
   "source": [
    "style.use('ggplot')\n"
   ]
  },
  {
   "cell_type": "code",
   "execution_count": 3,
   "metadata": {},
   "outputs": [],
   "source": [
    "start = dt.datetime(2019,8,1)\n",
    "end = dt.datetime(2019,8,21)\n"
   ]
  },
  {
   "cell_type": "code",
   "execution_count": 4,
   "metadata": {},
   "outputs": [
    {
     "data": {
      "text/html": [
       "<div>\n",
       "<style scoped>\n",
       "    .dataframe tbody tr th:only-of-type {\n",
       "        vertical-align: middle;\n",
       "    }\n",
       "\n",
       "    .dataframe tbody tr th {\n",
       "        vertical-align: top;\n",
       "    }\n",
       "\n",
       "    .dataframe thead th {\n",
       "        text-align: right;\n",
       "    }\n",
       "</style>\n",
       "<table border=\"1\" class=\"dataframe\">\n",
       "  <thead>\n",
       "    <tr style=\"text-align: right;\">\n",
       "      <th></th>\n",
       "      <th>High</th>\n",
       "      <th>Low</th>\n",
       "      <th>Open</th>\n",
       "      <th>Close</th>\n",
       "      <th>Volume</th>\n",
       "      <th>Adj Close</th>\n",
       "    </tr>\n",
       "    <tr>\n",
       "      <th>Date</th>\n",
       "      <th></th>\n",
       "      <th></th>\n",
       "      <th></th>\n",
       "      <th></th>\n",
       "      <th></th>\n",
       "      <th></th>\n",
       "    </tr>\n",
       "  </thead>\n",
       "  <tbody>\n",
       "    <tr>\n",
       "      <th>2019-08-01</th>\n",
       "      <td>1897.920044</td>\n",
       "      <td>1844.010010</td>\n",
       "      <td>1871.719971</td>\n",
       "      <td>1855.319946</td>\n",
       "      <td>4713300</td>\n",
       "      <td>1855.319946</td>\n",
       "    </tr>\n",
       "    <tr>\n",
       "      <th>2019-08-02</th>\n",
       "      <td>1846.359985</td>\n",
       "      <td>1808.020020</td>\n",
       "      <td>1845.069946</td>\n",
       "      <td>1823.239990</td>\n",
       "      <td>4956200</td>\n",
       "      <td>1823.239990</td>\n",
       "    </tr>\n",
       "    <tr>\n",
       "      <th>2019-08-05</th>\n",
       "      <td>1788.670044</td>\n",
       "      <td>1748.780029</td>\n",
       "      <td>1770.219971</td>\n",
       "      <td>1765.130005</td>\n",
       "      <td>6058200</td>\n",
       "      <td>1765.130005</td>\n",
       "    </tr>\n",
       "    <tr>\n",
       "      <th>2019-08-06</th>\n",
       "      <td>1793.770020</td>\n",
       "      <td>1753.400024</td>\n",
       "      <td>1792.229980</td>\n",
       "      <td>1787.829956</td>\n",
       "      <td>5070300</td>\n",
       "      <td>1787.829956</td>\n",
       "    </tr>\n",
       "    <tr>\n",
       "      <th>2019-08-07</th>\n",
       "      <td>1798.930054</td>\n",
       "      <td>1757.000000</td>\n",
       "      <td>1773.989990</td>\n",
       "      <td>1793.400024</td>\n",
       "      <td>4526900</td>\n",
       "      <td>1793.400024</td>\n",
       "    </tr>\n",
       "  </tbody>\n",
       "</table>\n",
       "</div>"
      ],
      "text/plain": [
       "                   High          Low         Open        Close   Volume  \\\n",
       "Date                                                                      \n",
       "2019-08-01  1897.920044  1844.010010  1871.719971  1855.319946  4713300   \n",
       "2019-08-02  1846.359985  1808.020020  1845.069946  1823.239990  4956200   \n",
       "2019-08-05  1788.670044  1748.780029  1770.219971  1765.130005  6058200   \n",
       "2019-08-06  1793.770020  1753.400024  1792.229980  1787.829956  5070300   \n",
       "2019-08-07  1798.930054  1757.000000  1773.989990  1793.400024  4526900   \n",
       "\n",
       "              Adj Close  \n",
       "Date                     \n",
       "2019-08-01  1855.319946  \n",
       "2019-08-02  1823.239990  \n",
       "2019-08-05  1765.130005  \n",
       "2019-08-06  1787.829956  \n",
       "2019-08-07  1793.400024  "
      ]
     },
     "execution_count": 4,
     "metadata": {},
     "output_type": "execute_result"
    }
   ],
   "source": [
    "df = web.DataReader('AMZN','yahoo',start,end)\n",
    "df.head()"
   ]
  },
  {
   "cell_type": "code",
   "execution_count": 5,
   "metadata": {},
   "outputs": [
    {
     "data": {
      "image/png": "[encoded data removed]",
      "text/plain": [
       "<Figure size 432x288 with 1 Axes>"
      ]
     },
     "metadata": {},
     "output_type": "display_data"
    }
   ],
   "source": [
    "df.plot()\n",
    "plt.show()"
   ]
  },
  {
   "cell_type": "code",
   "execution_count": null,
   "metadata": {},
   "outputs": [],
   "source": [
    "ax = sns.scatterplot(x=\"Date\", y=\"tip\", data=Volume)\n"
   ]
  }
 ],
 "metadata": {
  "kernelspec": {
   "display_name": "Python 36(PythonData)",
   "language": "python",
   "name": "pythondata"
  },
  "language_info": {
   "codemirror_mode": {
    "name": "ipython",
    "version": 3
   },
   "file_extension": ".py",
   "mimetype": "text/x-python",
   "name": "python",
   "nbconvert_exporter": "python",
   "pygments_lexer": "ipython3",
   "version": "3.6.8"
  }
 },
 "nbformat": 4,
 "nbformat_minor": 2
}
